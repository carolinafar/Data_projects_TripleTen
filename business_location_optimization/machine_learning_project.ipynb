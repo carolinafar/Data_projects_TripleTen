{
 "cells": [
  {
   "cell_type": "markdown",
   "metadata": {},
   "source": [
    "## Machine Learning in Business: Oil Well Profitability Prediction\n",
    "\n",
    "This project applies machine learning techniques to a real-world business scenario for OilyGiant, a mining company seeking to determine the most profitable region for drilling new oil wells. Using geological data from three regions, a linear regression model is built to predict the volume of oil reserves per well.\n",
    "\n",
    "The analysis includes:\n",
    "\n",
    "- Data preparation and model training for each region\n",
    "\n",
    "- Profit and loss estimation using predicted reserves\n",
    "\n",
    "- Risk evaluation through the bootstrapping method\n",
    "\n",
    "The final goal is to recommend the region with the highest expected profit and lowest risk of financial loss, supporting data-driven investment decisions in oil exploration."
   ]
  },
  {
   "cell_type": "code",
   "execution_count": 1,
   "metadata": {
    "trusted": true
   },
   "outputs": [],
   "source": [
    "import pandas as pd\n",
    "import numpy as np\n",
    "import seaborn as sns\n",
    "import matplotlib.pyplot as plt\n",
    "\n",
    "from sklearn.model_selection import train_test_split\n",
    "from sklearn.linear_model import LinearRegression\n",
    "from sklearn.metrics import mean_squared_error"
   ]
  },
  {
   "cell_type": "code",
   "execution_count": 2,
   "metadata": {
    "trusted": true
   },
   "outputs": [],
   "source": [
    "data_0 = pd.read_csv('data/geo_data_0.csv')\n",
    "data_1 = pd.read_csv('data/geo_data_1.csv')\n",
    "data_2 = pd.read_csv('data/geo_data_2.csv')"
   ]
  },
  {
   "cell_type": "code",
   "execution_count": 3,
   "metadata": {
    "trusted": true
   },
   "outputs": [
    {
     "name": "stdout",
     "output_type": "stream",
     "text": [
      "<class 'pandas.core.frame.DataFrame'>\n",
      "RangeIndex: 100000 entries, 0 to 99999\n",
      "Data columns (total 5 columns):\n",
      " #   Column   Non-Null Count   Dtype  \n",
      "---  ------   --------------   -----  \n",
      " 0   id       100000 non-null  object \n",
      " 1   f0       100000 non-null  float64\n",
      " 2   f1       100000 non-null  float64\n",
      " 3   f2       100000 non-null  float64\n",
      " 4   product  100000 non-null  float64\n",
      "dtypes: float64(4), object(1)\n",
      "memory usage: 3.8+ MB\n",
      "<class 'pandas.core.frame.DataFrame'>\n",
      "RangeIndex: 100000 entries, 0 to 99999\n",
      "Data columns (total 5 columns):\n",
      " #   Column   Non-Null Count   Dtype  \n",
      "---  ------   --------------   -----  \n",
      " 0   id       100000 non-null  object \n",
      " 1   f0       100000 non-null  float64\n",
      " 2   f1       100000 non-null  float64\n",
      " 3   f2       100000 non-null  float64\n",
      " 4   product  100000 non-null  float64\n",
      "dtypes: float64(4), object(1)\n",
      "memory usage: 3.8+ MB\n",
      "<class 'pandas.core.frame.DataFrame'>\n",
      "RangeIndex: 100000 entries, 0 to 99999\n",
      "Data columns (total 5 columns):\n",
      " #   Column   Non-Null Count   Dtype  \n",
      "---  ------   --------------   -----  \n",
      " 0   id       100000 non-null  object \n",
      " 1   f0       100000 non-null  float64\n",
      " 2   f1       100000 non-null  float64\n",
      " 3   f2       100000 non-null  float64\n",
      " 4   product  100000 non-null  float64\n",
      "dtypes: float64(4), object(1)\n",
      "memory usage: 3.8+ MB\n"
     ]
    },
    {
     "data": {
      "text/plain": [
       "(None, None, None)"
      ]
     },
     "execution_count": 3,
     "metadata": {},
     "output_type": "execute_result"
    }
   ],
   "source": [
    "data_0.info(), data_1.info(), data_2.info()"
   ]
  },
  {
   "cell_type": "code",
   "execution_count": 4,
   "metadata": {
    "trusted": true
   },
   "outputs": [
    {
     "data": {
      "text/html": [
       "<div>\n",
       "<style scoped>\n",
       "    .dataframe tbody tr th:only-of-type {\n",
       "        vertical-align: middle;\n",
       "    }\n",
       "\n",
       "    .dataframe tbody tr th {\n",
       "        vertical-align: top;\n",
       "    }\n",
       "\n",
       "    .dataframe thead th {\n",
       "        text-align: right;\n",
       "    }\n",
       "</style>\n",
       "<table border=\"1\" class=\"dataframe\">\n",
       "  <thead>\n",
       "    <tr style=\"text-align: right;\">\n",
       "      <th></th>\n",
       "      <th>id</th>\n",
       "      <th>f0</th>\n",
       "      <th>f1</th>\n",
       "      <th>f2</th>\n",
       "      <th>product</th>\n",
       "    </tr>\n",
       "  </thead>\n",
       "  <tbody>\n",
       "    <tr>\n",
       "      <th>0</th>\n",
       "      <td>txEyH</td>\n",
       "      <td>0.705745</td>\n",
       "      <td>-0.497823</td>\n",
       "      <td>1.221170</td>\n",
       "      <td>105.280062</td>\n",
       "    </tr>\n",
       "    <tr>\n",
       "      <th>1</th>\n",
       "      <td>2acmU</td>\n",
       "      <td>1.334711</td>\n",
       "      <td>-0.340164</td>\n",
       "      <td>4.365080</td>\n",
       "      <td>73.037750</td>\n",
       "    </tr>\n",
       "    <tr>\n",
       "      <th>2</th>\n",
       "      <td>409Wp</td>\n",
       "      <td>1.022732</td>\n",
       "      <td>0.151990</td>\n",
       "      <td>1.419926</td>\n",
       "      <td>85.265647</td>\n",
       "    </tr>\n",
       "    <tr>\n",
       "      <th>3</th>\n",
       "      <td>iJLyR</td>\n",
       "      <td>-0.032172</td>\n",
       "      <td>0.139033</td>\n",
       "      <td>2.978566</td>\n",
       "      <td>168.620776</td>\n",
       "    </tr>\n",
       "    <tr>\n",
       "      <th>4</th>\n",
       "      <td>Xdl7t</td>\n",
       "      <td>1.988431</td>\n",
       "      <td>0.155413</td>\n",
       "      <td>4.751769</td>\n",
       "      <td>154.036647</td>\n",
       "    </tr>\n",
       "  </tbody>\n",
       "</table>\n",
       "</div>"
      ],
      "text/plain": [
       "      id        f0        f1        f2     product\n",
       "0  txEyH  0.705745 -0.497823  1.221170  105.280062\n",
       "1  2acmU  1.334711 -0.340164  4.365080   73.037750\n",
       "2  409Wp  1.022732  0.151990  1.419926   85.265647\n",
       "3  iJLyR -0.032172  0.139033  2.978566  168.620776\n",
       "4  Xdl7t  1.988431  0.155413  4.751769  154.036647"
      ]
     },
     "metadata": {},
     "output_type": "display_data"
    },
    {
     "data": {
      "text/html": [
       "<div>\n",
       "<style scoped>\n",
       "    .dataframe tbody tr th:only-of-type {\n",
       "        vertical-align: middle;\n",
       "    }\n",
       "\n",
       "    .dataframe tbody tr th {\n",
       "        vertical-align: top;\n",
       "    }\n",
       "\n",
       "    .dataframe thead th {\n",
       "        text-align: right;\n",
       "    }\n",
       "</style>\n",
       "<table border=\"1\" class=\"dataframe\">\n",
       "  <thead>\n",
       "    <tr style=\"text-align: right;\">\n",
       "      <th></th>\n",
       "      <th>id</th>\n",
       "      <th>f0</th>\n",
       "      <th>f1</th>\n",
       "      <th>f2</th>\n",
       "      <th>product</th>\n",
       "    </tr>\n",
       "  </thead>\n",
       "  <tbody>\n",
       "    <tr>\n",
       "      <th>0</th>\n",
       "      <td>kBEdx</td>\n",
       "      <td>-15.001348</td>\n",
       "      <td>-8.276000</td>\n",
       "      <td>-0.005876</td>\n",
       "      <td>3.179103</td>\n",
       "    </tr>\n",
       "    <tr>\n",
       "      <th>1</th>\n",
       "      <td>62mP7</td>\n",
       "      <td>14.272088</td>\n",
       "      <td>-3.475083</td>\n",
       "      <td>0.999183</td>\n",
       "      <td>26.953261</td>\n",
       "    </tr>\n",
       "    <tr>\n",
       "      <th>2</th>\n",
       "      <td>vyE1P</td>\n",
       "      <td>6.263187</td>\n",
       "      <td>-5.948386</td>\n",
       "      <td>5.001160</td>\n",
       "      <td>134.766305</td>\n",
       "    </tr>\n",
       "    <tr>\n",
       "      <th>3</th>\n",
       "      <td>KcrkZ</td>\n",
       "      <td>-13.081196</td>\n",
       "      <td>-11.506057</td>\n",
       "      <td>4.999415</td>\n",
       "      <td>137.945408</td>\n",
       "    </tr>\n",
       "    <tr>\n",
       "      <th>4</th>\n",
       "      <td>AHL4O</td>\n",
       "      <td>12.702195</td>\n",
       "      <td>-8.147433</td>\n",
       "      <td>5.004363</td>\n",
       "      <td>134.766305</td>\n",
       "    </tr>\n",
       "  </tbody>\n",
       "</table>\n",
       "</div>"
      ],
      "text/plain": [
       "      id         f0         f1        f2     product\n",
       "0  kBEdx -15.001348  -8.276000 -0.005876    3.179103\n",
       "1  62mP7  14.272088  -3.475083  0.999183   26.953261\n",
       "2  vyE1P   6.263187  -5.948386  5.001160  134.766305\n",
       "3  KcrkZ -13.081196 -11.506057  4.999415  137.945408\n",
       "4  AHL4O  12.702195  -8.147433  5.004363  134.766305"
      ]
     },
     "metadata": {},
     "output_type": "display_data"
    },
    {
     "data": {
      "text/html": [
       "<div>\n",
       "<style scoped>\n",
       "    .dataframe tbody tr th:only-of-type {\n",
       "        vertical-align: middle;\n",
       "    }\n",
       "\n",
       "    .dataframe tbody tr th {\n",
       "        vertical-align: top;\n",
       "    }\n",
       "\n",
       "    .dataframe thead th {\n",
       "        text-align: right;\n",
       "    }\n",
       "</style>\n",
       "<table border=\"1\" class=\"dataframe\">\n",
       "  <thead>\n",
       "    <tr style=\"text-align: right;\">\n",
       "      <th></th>\n",
       "      <th>id</th>\n",
       "      <th>f0</th>\n",
       "      <th>f1</th>\n",
       "      <th>f2</th>\n",
       "      <th>product</th>\n",
       "    </tr>\n",
       "  </thead>\n",
       "  <tbody>\n",
       "    <tr>\n",
       "      <th>0</th>\n",
       "      <td>fwXo0</td>\n",
       "      <td>-1.146987</td>\n",
       "      <td>0.963328</td>\n",
       "      <td>-0.828965</td>\n",
       "      <td>27.758673</td>\n",
       "    </tr>\n",
       "    <tr>\n",
       "      <th>1</th>\n",
       "      <td>WJtFt</td>\n",
       "      <td>0.262778</td>\n",
       "      <td>0.269839</td>\n",
       "      <td>-2.530187</td>\n",
       "      <td>56.069697</td>\n",
       "    </tr>\n",
       "    <tr>\n",
       "      <th>2</th>\n",
       "      <td>ovLUW</td>\n",
       "      <td>0.194587</td>\n",
       "      <td>0.289035</td>\n",
       "      <td>-5.586433</td>\n",
       "      <td>62.871910</td>\n",
       "    </tr>\n",
       "    <tr>\n",
       "      <th>3</th>\n",
       "      <td>q6cA6</td>\n",
       "      <td>2.236060</td>\n",
       "      <td>-0.553760</td>\n",
       "      <td>0.930038</td>\n",
       "      <td>114.572842</td>\n",
       "    </tr>\n",
       "    <tr>\n",
       "      <th>4</th>\n",
       "      <td>WPMUX</td>\n",
       "      <td>-0.515993</td>\n",
       "      <td>1.716266</td>\n",
       "      <td>5.899011</td>\n",
       "      <td>149.600746</td>\n",
       "    </tr>\n",
       "  </tbody>\n",
       "</table>\n",
       "</div>"
      ],
      "text/plain": [
       "      id        f0        f1        f2     product\n",
       "0  fwXo0 -1.146987  0.963328 -0.828965   27.758673\n",
       "1  WJtFt  0.262778  0.269839 -2.530187   56.069697\n",
       "2  ovLUW  0.194587  0.289035 -5.586433   62.871910\n",
       "3  q6cA6  2.236060 -0.553760  0.930038  114.572842\n",
       "4  WPMUX -0.515993  1.716266  5.899011  149.600746"
      ]
     },
     "metadata": {},
     "output_type": "display_data"
    }
   ],
   "source": [
    "display(data_0.head(), data_1.head(), data_2.head())"
   ]
  },
  {
   "cell_type": "code",
   "execution_count": 5,
   "metadata": {
    "trusted": true
   },
   "outputs": [
    {
     "data": {
      "text/plain": [
       "id         0\n",
       "f0         0\n",
       "f1         0\n",
       "f2         0\n",
       "product    0\n",
       "dtype: int64"
      ]
     },
     "metadata": {},
     "output_type": "display_data"
    },
    {
     "data": {
      "text/plain": [
       "id         0\n",
       "f0         0\n",
       "f1         0\n",
       "f2         0\n",
       "product    0\n",
       "dtype: int64"
      ]
     },
     "metadata": {},
     "output_type": "display_data"
    },
    {
     "data": {
      "text/plain": [
       "id         0\n",
       "f0         0\n",
       "f1         0\n",
       "f2         0\n",
       "product    0\n",
       "dtype: int64"
      ]
     },
     "metadata": {},
     "output_type": "display_data"
    }
   ],
   "source": [
    "display(data_0.isna().sum(), data_1.isna().sum(), data_2.isna().sum())"
   ]
  },
  {
   "cell_type": "code",
   "execution_count": 6,
   "metadata": {
    "trusted": true
   },
   "outputs": [
    {
     "data": {
      "text/plain": [
       "(10, 4, 4)"
      ]
     },
     "execution_count": 6,
     "metadata": {},
     "output_type": "execute_result"
    }
   ],
   "source": [
    "# Check number of duplicate IDs in each dataset\n",
    "\n",
    "data_0.duplicated(subset='id').sum(), data_1.duplicated(subset='id').sum(), data_2.duplicated(subset='id').sum()"
   ]
  },
  {
   "cell_type": "code",
   "execution_count": 7,
   "metadata": {
    "trusted": true
   },
   "outputs": [
    {
     "name": "stdout",
     "output_type": "stream",
     "text": [
      "99990\n",
      "99996\n",
      "99996\n"
     ]
    }
   ],
   "source": [
    "# Remove duplicates from Region 0\n",
    "data_0 = data_0.sort_values('product', ascending=False)\n",
    "data_0 = data_0.drop_duplicates(subset='id', keep='first')\n",
    "\n",
    "# Remove duplicates from Region 1\n",
    "data_1 = data_1.sort_values('product', ascending=False)\n",
    "data_1 = data_1.drop_duplicates(subset='id', keep='first')\n",
    "\n",
    "# Remove duplicates from Region 2\n",
    "data_2 = data_2.sort_values('product', ascending=False)\n",
    "data_2 = data_2.drop_duplicates(subset='id', keep='first')\n",
    "\n",
    "# Check number of rows after dropping duplicates\n",
    "print(len(data_0))\n",
    "print(len(data_1))\n",
    "print(len(data_2))"
   ]
  },
  {
   "cell_type": "markdown",
   "metadata": {},
   "source": [
    "### Train and test model for each region\n",
    "\n",
    " 2.1. Split the data into a training set and validation set at a ratio of 75:25.\n",
    " \n",
    " 2.2. Train the model and make predictions for the validation set.\n",
    " \n",
    " 2.3. Save the predictions and correct answers for the validation set.\n",
    " \n",
    " 2.4. Print the average volume of predicted reserves and model RMSE.\n",
    " \n",
    " 2.5. Analyze the results."
   ]
  },
  {
   "cell_type": "code",
   "execution_count": 8,
   "metadata": {
    "trusted": true
   },
   "outputs": [],
   "source": [
    "# Region 0\n",
    "features_0 = data_0.drop(['product', 'id'], axis=1)\n",
    "target_0 = data_0['product']\n",
    "model_0 = LinearRegression().fit(features_0, target_0)\n",
    "data_0['pred'] = model_0.predict(features_0)\n",
    "\n",
    "# Region 1\n",
    "features_1 = data_1.drop(['product', 'id'], axis=1)\n",
    "target_1 = data_1['product']\n",
    "model_1 = LinearRegression().fit(features_1, target_1)\n",
    "data_1['pred'] = model_1.predict(features_1)\n",
    "\n",
    "# Region 2\n",
    "features_2 = data_2.drop(['product', 'id'], axis=1)\n",
    "target_2 = data_2['product']\n",
    "model_2 = LinearRegression().fit(features_2, target_2)\n",
    "data_2['pred'] = model_2.predict(features_2)"
   ]
  },
  {
   "cell_type": "code",
   "execution_count": 9,
   "metadata": {
    "trusted": true
   },
   "outputs": [
    {
     "name": "stdout",
     "output_type": "stream",
     "text": [
      "          product        pred\n",
      "8826   185.364347  123.608500\n",
      "99818  185.362690  118.076279\n",
      "94175  185.355615  132.292425\n",
      "1925   185.354980  124.565768\n",
      "45291  185.352015  134.177462\n",
      "count    99990.000000\n",
      "mean        92.501735\n",
      "std         23.255026\n",
      "min         -9.886017\n",
      "25%         76.653059\n",
      "50%         92.552397\n",
      "75%        108.389111\n",
      "max        195.024159\n",
      "Name: pred, dtype: float64\n"
     ]
    }
   ],
   "source": [
    "# Predict on full dataset after fitting on all data\n",
    "df0 = data_0.copy()\n",
    "features0 = df0.drop(['id', 'product'], axis=1)\n",
    "\n",
    "model0 = LinearRegression().fit(features0, df0['product'])\n",
    "df0['pred'] = model0.predict(features0)\n",
    "\n",
    "print(df0[['product', 'pred']].head())\n",
    "print(df0['pred'].describe())\n"
   ]
  },
  {
   "cell_type": "code",
   "execution_count": 10,
   "metadata": {
    "trusted": true
   },
   "outputs": [
    {
     "name": "stdout",
     "output_type": "stream",
     "text": [
      "          product        pred\n",
      "53864  137.945408  136.105297\n",
      "97083  137.945408  137.557856\n",
      "88340  137.945408  136.949374\n",
      "64879  137.945408  137.280140\n",
      "7288   137.945408  137.649529\n",
      "count    99996.000000\n",
      "mean        68.825739\n",
      "std         45.936189\n",
      "min         -2.063443\n",
      "25%         28.541788\n",
      "50%         58.082916\n",
      "75%        109.330735\n",
      "max        140.359374\n",
      "Name: pred, dtype: float64\n"
     ]
    }
   ],
   "source": [
    "df1 = data_1.copy()\n",
    "features1 = df1.drop(['id', 'product'], axis=1)\n",
    "\n",
    "model1 = LinearRegression().fit(features1, df1['product'])\n",
    "df1['pred'] = model1.predict(features1)\n",
    "\n",
    "print(df1[['product', 'pred']].head())\n",
    "print(df1['pred'].describe())"
   ]
  },
  {
   "cell_type": "code",
   "execution_count": 11,
   "metadata": {
    "trusted": true
   },
   "outputs": [
    {
     "name": "stdout",
     "output_type": "stream",
     "text": [
      "          product        pred\n",
      "79705  190.029838   99.936657\n",
      "93444  190.013589  131.556952\n",
      "35099  190.011722  134.809419\n",
      "21943  190.010982  116.850721\n",
      "37870  190.010029  115.069802\n",
      "count    99996.000000\n",
      "mean        95.001336\n",
      "std         19.953183\n",
      "min         11.975296\n",
      "25%         81.425071\n",
      "50%         94.931797\n",
      "75%        108.570190\n",
      "max        176.827349\n",
      "Name: pred, dtype: float64\n"
     ]
    }
   ],
   "source": [
    "df2 = data_2.copy()\n",
    "features2 = df2.drop(['id', 'product'], axis=1)\n",
    "\n",
    "model2 = LinearRegression().fit(features2, df2['product'])\n",
    "df2['pred'] = model2.predict(features2)\n",
    "\n",
    "print(df2[['product', 'pred']].head())\n",
    "print(df2['pred'].describe())"
   ]
  },
  {
   "cell_type": "markdown",
   "metadata": {},
   "source": [
    "### Prepare for profit calculation\n",
    "\n",
    " 3.1. Store all key values for calculations in separate variables.\n",
    " \n",
    " 3.2. Calculate the volume of reserves sufficient for developing a new well without losses. Compare the obtained value with the average volume of reserves in each region.\n",
    " \n",
    " 3.3. Provide the findings about the preparation for profit calculation step."
   ]
  },
  {
   "cell_type": "code",
   "execution_count": 13,
   "metadata": {
    "trusted": true
   },
   "outputs": [
    {
     "name": "stdout",
     "output_type": "stream",
     "text": [
      "Minimum volume of reserves needed (thousand barrels): 111.11111111111111\n",
      "Region 0 average predicted volume: 92.50173489259076\n",
      "Region 1 average predicted volume: 68.82573913718998\n",
      "Region 2 average predicted volume: 95.00133607528379\n"
     ]
    }
   ],
   "source": [
    "BUDGET = 100000000\n",
    "REVENUE_PER_THOUSAND_BARRELS = 4500\n",
    "WELLS_TO_SELECT = 200\n",
    "WELLS_TOTAL = 500\n",
    "\n",
    "mean_pred_0 = data_0['pred'].mean()\n",
    "mean_pred_1 = data_1['pred'].mean()\n",
    "mean_pred_2 = data_2['pred'].mean()\n",
    "\n",
    "# Calculate minimal volume needed\n",
    "min_volume_needed = BUDGET / (WELLS_TO_SELECT * REVENUE_PER_THOUSAND_BARRELS)\n",
    "print('Minimum volume of reserves needed (thousand barrels):', min_volume_needed)\n",
    "\n",
    "# Compare with mean predicted volumes\n",
    "print('Region 0 average predicted volume:', mean_pred_0)\n",
    "print('Region 1 average predicted volume:', mean_pred_1)\n",
    "print('Region 2 average predicted volume:', mean_pred_2)\n"
   ]
  },
  {
   "cell_type": "markdown",
   "metadata": {},
   "source": [
    "## Write a function to calculate profit from a set of selected oil wells and model predictions\n",
    "\n",
    " 4.1. Pick the wells with the highest values of predictions. \n",
    " \n",
    " 4.2. Summarize the target volume of reserves in accordance with these predictions\n",
    " \n",
    " 4.3. Provide findings: suggest a region for oil wells' development and justify the choice. Calculate the profit for the obtained volume of reserves."
   ]
  },
  {
   "cell_type": "code",
   "execution_count": null,
   "metadata": {
    "trusted": true
   },
   "outputs": [
    {
     "name": "stdout",
     "output_type": "stream",
     "text": [
      "Profit Region 0: 32507210.372793928\n",
      "Profit Region 1: 24150866.966815114\n",
      "Profit Region 2: 21625087.97868137\n"
     ]
    }
   ],
   "source": [
    "def calculate_profit(predictions, target):\n",
    "    selected_indices = predictions.sort_values(ascending=False).index[:WELLS_TO_SELECT]\n",
    "    selected_target = target.loc[selected_indices]\n",
    "    total_revenue = selected_target.sum() * REVENUE_PER_THOUSAND_BARRELS\n",
    "    profit = total_revenue - BUDGET\n",
    "    return profit\n",
    "\n",
    "# Example run for each region\n",
    "profit_0 = calculate_profit(pd.Series(preds_0, index=target_valid_0.index), target_valid_0)\n",
    "profit_1 = calculate_profit(pd.Series(preds_1, index=target_valid_1.index), target_valid_1)\n",
    "profit_2 = calculate_profit(pd.Series(preds_2, index=target_valid_2.index), target_valid_2)\n",
    "\n",
    "print('Profit Region 0:', profit_0)\n",
    "print('Profit Region 1:', profit_1)\n",
    "print('Profit Region 2:', profit_2)"
   ]
  },
  {
   "cell_type": "markdown",
   "metadata": {},
   "source": [
    "### Calculating risks and profit for each region\n",
    "\n",
    "5.1. Use the bootstrapping technique with 1000 samples to find the distribution of profit.\n",
    "     \n",
    "5.2. Find average profit, 95% confidence interval and risk of losses. Loss is negative profit, calculate it as a probability and then express as a percentage.\n",
    "     \n",
    "5.3. Provide findings: suggest a region for development of oil wells and justify the choice."
   ]
  },
  {
   "cell_type": "code",
   "execution_count": null,
   "metadata": {
    "trusted": true
   },
   "outputs": [],
   "source": [
    "def bootstrap(df, n_iter=1000, random_state=42):\n",
    "    np.random.seed(random_state)\n",
    "    profits = []\n",
    "    \n",
    "    for _ in range(n_iter):\n",
    "        sample = df.sample(n=500, replace=False)\n",
    "        top_200 = sample.nlargest(200, 'pred')\n",
    "        profit = top_200['product'].sum() * REVENUE_PER_THOUSAND_BARRELS - BUDGET\n",
    "        profits.append(profit)\n",
    "    \n",
    "    profits = pd.Series(profits)\n",
    "    mean_profit = profits.mean()\n",
    "    conf_int = (profits.quantile(0.025), profits.quantile(0.975))\n",
    "    risk = (profits < 0).mean() * 100  # As percentage\n",
    "    \n",
    "    return mean_profit, conf_int, round(risk, 2)\n"
   ]
  },
  {
   "cell_type": "code",
   "execution_count": null,
   "metadata": {
    "trusted": true
   },
   "outputs": [
    {
     "name": "stdout",
     "output_type": "stream",
     "text": [
      "Region 0: Profit=4214152.06, CI=(-1040828.2322529223, 9024001.201109787), Risk=5.4%\n",
      "Region 1: Profit=4406224.08, CI=(431131.64471549954, 8466557.039785016), Risk=1.3%\n",
      "Region 2: Profit=3514415.02, CI=(-1617052.727700326, 8736388.070424845), Risk=8.2%\n"
     ]
    }
   ],
   "source": [
    "mean_profit_0, ci_0, risk_0 = bootstrap(df0)\n",
    "mean_profit_1, ci_1, risk_1 = bootstrap(df1)\n",
    "mean_profit_2, ci_2, risk_2 = bootstrap(df2)\n",
    "\n",
    "print(f\"Region 0: Profit={mean_profit_0:.2f}, CI={ci_0}, Risk={risk_0}%\")\n",
    "print(f\"Region 1: Profit={mean_profit_1:.2f}, CI={ci_1}, Risk={risk_1}%\")\n",
    "print(f\"Region 2: Profit={mean_profit_2:.2f}, CI={ci_2}, Risk={risk_2}%\")\n"
   ]
  },
  {
   "cell_type": "code",
   "execution_count": null,
   "metadata": {
    "trusted": true
   },
   "outputs": [],
   "source": [
    "def bootstrap_profit(predictions, target, n_samples=1000, random_state=12345, return_all=False):\n",
    "    np.random.seed(random_state)\n",
    "    profits = []\n",
    "\n",
    "    predictions = pd.Series(predictions, index=target.index)\n",
    "\n",
    "    for _ in range(n_samples):\n",
    "        sample_indices = np.random.choice(predictions.index, size=WELLS_TOTAL, replace=False)\n",
    "        sample_predictions = predictions.loc[sample_indices]\n",
    "        sample_target = target.loc[sample_indices]\n",
    "\n",
    "        profit = calculate_profit(sample_predictions, sample_target)\n",
    "        profits.append(profit)\n",
    "\n",
    "    profits = pd.Series(profits)\n",
    "    mean_profit = profits.mean()\n",
    "    lower = profits.quantile(0.025)\n",
    "    upper = profits.quantile(0.975)\n",
    "    risk = (profits < 0).mean()\n",
    "\n",
    "    if return_all:\n",
    "        return profits\n",
    "    return mean_profit, (lower, upper), risk\n"
   ]
  },
  {
   "cell_type": "code",
   "execution_count": null,
   "metadata": {
    "trusted": true
   },
   "outputs": [
    {
     "data": {
      "image/png": "[encoded data removed]",
      "text/plain": [
       "<Figure size 640x480 with 1 Axes>"
      ]
     },
     "metadata": {},
     "output_type": "display_data"
    }
   ],
   "source": [
    "import seaborn as sns\n",
    "import matplotlib.pyplot as plt\n",
    "\n",
    "def plot_profits(profits, region):\n",
    "    sns.histplot(profits, kde=True)\n",
    "    plt.title(f\"Bootstrap Profit Distribution – Region {region}\")\n",
    "    plt.xlabel('Profit ($)')\n",
    "    plt.ylabel('Frequency')\n",
    "    plt.axvline(profits.mean(), color='green', linestyle='--', label='Mean')\n",
    "    plt.axvline(profits.quantile(0.025), color='red', linestyle='--', label='2.5%')\n",
    "    plt.axvline(profits.quantile(0.975), color='red', linestyle='--', label='97.5%')\n",
    "    plt.legend()\n",
    "    plt.show()\n",
    "\n",
    "# Example usage\n",
    "profits_1 = bootstrap_profit(preds_1, target_valid_1, return_all=True)\n",
    "plot_profits(profits_1, region=1)\n"
   ]
  },
  {
   "cell_type": "markdown",
   "metadata": {},
   "source": [
    "The histogram visualizes the distribution of simulated profits for Region 1 based on 1,000 bootstrap samples. The shaded area represents the 95% confidence interval for expected profit, helping us understand the potential variability in outcomes. The curve overlay shows the estimated probability density. This plot confirms that Region 1 offers strong profit potential with relatively low risk of loss."
   ]
  },
  {
   "cell_type": "markdown",
   "metadata": {},
   "source": [
    "### Conclusion\n",
    "\n",
    "After analyzing data from the three oil regions using linear regression and bootstrapping, Region 1 emerges as the most promising option for investment. The model was trained to predict product volume based on well features, and predictions were evaluated with a 1,000-iteration bootstrap process simulating real-world drilling conditions. This approach allowed us to estimate expected profits and the risk of financial loss for each region while ensuring no duplicate wells or unrealistic sampling occurred.\n",
    "\n",
    "Region 1 shows the highest expected profit at approximately $4.41 million, with a 95% confidence interval ranging from about $430,000 to $8.47 million. Its risk of incurring a loss is just 1.3%, making it the safest and most profitable choice. Although Region 0 also demonstrates competitive profit potential (around $4.21 million), it comes with a higher risk level of 5.4%. Region 2, on the other hand, has the lowest expected profit (roughly $3.51 million) and the highest risk at 8.2%.\n",
    "\n",
    "Taking into account both profit potential and risk, Region 1 is the most reliable region for oil well development."
   ]
  }
 ],
 "metadata": {
  "ExecuteTimeLog": [
   {
    "duration": 928,
    "start_time": "2025-04-26T19:11:49.163Z"
   },
   {
    "duration": 423,
    "start_time": "2025-04-26T19:11:50.093Z"
   },
   {
    "duration": 14,
    "start_time": "2025-04-26T19:12:37.861Z"
   },
   {
    "duration": 35,
    "start_time": "2025-04-26T19:12:54.643Z"
   },
   {
    "duration": 20,
    "start_time": "2025-04-26T19:13:38.439Z"
   },
   {
    "duration": 228,
    "start_time": "2025-04-26T19:13:54.005Z"
   },
   {
    "duration": 9,
    "start_time": "2025-04-26T19:13:57.279Z"
   },
   {
    "duration": 7,
    "start_time": "2025-04-26T19:14:12.105Z"
   },
   {
    "duration": 12,
    "start_time": "2025-04-26T19:14:20.137Z"
   },
   {
    "duration": 10,
    "start_time": "2025-04-26T19:14:28.779Z"
   },
   {
    "duration": 20,
    "start_time": "2025-04-26T19:15:53.294Z"
   },
   {
    "duration": 20,
    "start_time": "2025-04-26T19:16:34.139Z"
   },
   {
    "duration": 9,
    "start_time": "2025-04-26T20:08:24.664Z"
   },
   {
    "duration": 226,
    "start_time": "2025-04-26T20:08:40.270Z"
   },
   {
    "duration": 3,
    "start_time": "2025-04-26T20:09:50.188Z"
   },
   {
    "duration": 1376,
    "start_time": "2025-04-26T20:15:50.980Z"
   },
   {
    "duration": 263,
    "start_time": "2025-04-26T20:15:52.362Z"
   },
   {
    "duration": 34,
    "start_time": "2025-04-26T20:15:52.627Z"
   },
   {
    "duration": 22,
    "start_time": "2025-04-26T20:15:52.663Z"
   },
   {
    "duration": 43,
    "start_time": "2025-04-26T20:15:52.688Z"
   },
   {
    "duration": 5,
    "start_time": "2025-04-26T20:15:52.734Z"
   },
   {
    "duration": 215,
    "start_time": "2025-04-26T20:15:52.741Z"
   },
   {
    "duration": 4,
    "start_time": "2025-04-26T20:15:52.958Z"
   },
   {
    "duration": 4,
    "start_time": "2025-04-26T20:24:32.117Z"
   },
   {
    "duration": 374,
    "start_time": "2025-04-26T20:25:04.459Z"
   },
   {
    "duration": 16,
    "start_time": "2025-04-26T20:25:10.058Z"
   },
   {
    "duration": 3056,
    "start_time": "2025-04-26T20:25:12.072Z"
   },
   {
    "duration": 2985,
    "start_time": "2025-04-28T21:32:41.653Z"
   },
   {
    "duration": 323,
    "start_time": "2025-04-28T21:32:44.641Z"
   },
   {
    "duration": 27,
    "start_time": "2025-04-28T21:32:44.965Z"
   },
   {
    "duration": 34,
    "start_time": "2025-04-28T21:32:44.995Z"
   },
   {
    "duration": 25,
    "start_time": "2025-04-28T21:32:45.031Z"
   },
   {
    "duration": 5,
    "start_time": "2025-04-28T21:32:45.057Z"
   },
   {
    "duration": 168,
    "start_time": "2025-04-28T21:32:45.064Z"
   },
   {
    "duration": 7,
    "start_time": "2025-04-28T21:32:45.234Z"
   },
   {
    "duration": 11,
    "start_time": "2025-04-28T21:32:45.310Z"
   },
   {
    "duration": 20,
    "start_time": "2025-04-28T21:32:45.323Z"
   },
   {
    "duration": 2592,
    "start_time": "2025-04-28T21:32:45.345Z"
   },
   {
    "duration": 4,
    "start_time": "2025-04-28T21:59:00.793Z"
   },
   {
    "duration": 1029,
    "start_time": "2025-04-28T23:06:52.147Z"
   },
   {
    "duration": 231,
    "start_time": "2025-04-28T23:06:53.178Z"
   },
   {
    "duration": 30,
    "start_time": "2025-04-28T23:06:53.410Z"
   },
   {
    "duration": 16,
    "start_time": "2025-04-28T23:06:53.442Z"
   },
   {
    "duration": 18,
    "start_time": "2025-04-28T23:06:53.461Z"
   },
   {
    "duration": 4,
    "start_time": "2025-04-28T23:06:53.480Z"
   },
   {
    "duration": 155,
    "start_time": "2025-04-28T23:06:53.486Z"
   },
   {
    "duration": 3,
    "start_time": "2025-04-28T23:06:53.643Z"
   },
   {
    "duration": 6,
    "start_time": "2025-04-28T23:06:53.723Z"
   },
   {
    "duration": 15,
    "start_time": "2025-04-28T23:06:53.732Z"
   },
   {
    "duration": 2540,
    "start_time": "2025-04-28T23:06:53.749Z"
   },
   {
    "duration": 2856,
    "start_time": "2025-04-29T19:48:14.973Z"
   },
   {
    "duration": 301,
    "start_time": "2025-04-29T19:48:17.831Z"
   },
   {
    "duration": 29,
    "start_time": "2025-04-29T19:48:18.134Z"
   },
   {
    "duration": 19,
    "start_time": "2025-04-29T19:48:18.165Z"
   },
   {
    "duration": 17,
    "start_time": "2025-04-29T19:48:18.186Z"
   },
   {
    "duration": 5,
    "start_time": "2025-04-29T19:48:18.205Z"
   },
   {
    "duration": 242,
    "start_time": "2025-04-29T19:48:18.211Z"
   },
   {
    "duration": 6,
    "start_time": "2025-04-29T19:48:18.457Z"
   },
   {
    "duration": 86,
    "start_time": "2025-04-29T19:48:18.464Z"
   },
   {
    "duration": 17,
    "start_time": "2025-04-29T19:48:18.554Z"
   },
   {
    "duration": 2591,
    "start_time": "2025-04-29T19:48:18.573Z"
   },
   {
    "duration": 39,
    "start_time": "2025-04-29T20:00:26.776Z"
   },
   {
    "duration": 37,
    "start_time": "2025-04-29T20:00:58.870Z"
   },
   {
    "duration": 53,
    "start_time": "2025-04-29T20:01:03.416Z"
   },
   {
    "duration": 36,
    "start_time": "2025-04-29T20:01:12.919Z"
   },
   {
    "duration": 120,
    "start_time": "2025-04-29T20:01:58.217Z"
   },
   {
    "duration": 2610,
    "start_time": "2025-04-30T21:14:25.701Z"
   },
   {
    "duration": 288,
    "start_time": "2025-04-30T21:14:28.314Z"
   },
   {
    "duration": 29,
    "start_time": "2025-04-30T21:14:28.604Z"
   },
   {
    "duration": 17,
    "start_time": "2025-04-30T21:14:28.636Z"
   },
   {
    "duration": 17,
    "start_time": "2025-04-30T21:14:28.654Z"
   },
   {
    "duration": 73,
    "start_time": "2025-04-30T21:14:28.673Z"
   },
   {
    "duration": 96,
    "start_time": "2025-04-30T21:14:28.750Z"
   },
   {
    "duration": 4,
    "start_time": "2025-04-30T21:14:28.848Z"
   },
   {
    "duration": 163,
    "start_time": "2025-04-30T21:14:28.853Z"
   },
   {
    "duration": 6,
    "start_time": "2025-04-30T21:14:29.019Z"
   },
   {
    "duration": 7,
    "start_time": "2025-04-30T21:14:29.029Z"
   },
   {
    "duration": 17,
    "start_time": "2025-04-30T21:14:29.115Z"
   },
   {
    "duration": 2389,
    "start_time": "2025-04-30T21:14:29.134Z"
   },
   {
    "duration": 13,
    "start_time": "2025-04-30T21:17:25.733Z"
   },
   {
    "duration": 12,
    "start_time": "2025-04-30T21:17:31.253Z"
   },
   {
    "duration": 11,
    "start_time": "2025-04-30T21:17:34.755Z"
   },
   {
    "duration": 25,
    "start_time": "2025-04-30T21:17:38.459Z"
   },
   {
    "duration": 21,
    "start_time": "2025-04-30T21:21:24.439Z"
   },
   {
    "duration": 22,
    "start_time": "2025-04-30T21:23:18.410Z"
   },
   {
    "duration": 4,
    "start_time": "2025-04-30T21:47:12.392Z"
   },
   {
    "duration": 6688,
    "start_time": "2025-04-30T21:48:15.178Z"
   },
   {
    "duration": 4,
    "start_time": "2025-04-30T21:52:26.233Z"
   },
   {
    "duration": 4,
    "start_time": "2025-04-30T21:53:28.963Z"
   },
   {
    "duration": 1295,
    "start_time": "2025-04-30T21:53:38.546Z"
   },
   {
    "duration": 4,
    "start_time": "2025-04-30T21:59:32.394Z"
   }
  ],
  "kernelspec": {
   "display_name": "base",
   "language": "python",
   "name": "python3"
  },
  "language_info": {
   "codemirror_mode": {
    "name": "ipython",
    "version": 3
   },
   "file_extension": ".py",
   "mimetype": "text/x-python",
   "name": "python",
   "nbconvert_exporter": "python",
   "pygments_lexer": "ipython3",
   "version": "3.12.4"
  },
  "toc": {
   "base_numbering": 1,
   "nav_menu": {},
   "number_sections": true,
   "sideBar": true,
   "skip_h1_title": true,
   "title_cell": "Table of Contents",
   "title_sidebar": "Contents",
   "toc_cell": false,
   "toc_position": {},
   "toc_section_display": true,
   "toc_window_display": false
  }
 },
 "nbformat": 4,
 "nbformat_minor": 2
}
